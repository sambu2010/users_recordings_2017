{
 "cells": [
  {
   "cell_type": "markdown",
   "id": "0ba30a5f-3f48-4447-ab69-6de08a59ad3d",
   "metadata": {},
   "source": [
    "**import required libraries**\n"
   ]
  },
  {
   "cell_type": "code",
   "execution_count": 31,
   "id": "cae4948a-92b2-44a3-b542-4e1387bfbe24",
   "metadata": {},
   "outputs": [],
   "source": [
    "import pandas as pd\n",
    "import json\n",
    "from pathlib import Path"
   ]
  },
  {
   "cell_type": "markdown",
   "id": "1cc19fa6-dde3-45a9-a915-700d8cf5a8e3",
   "metadata": {},
   "source": [
    "**load required files into pandas dataframes**"
   ]
  },
  {
   "cell_type": "code",
   "execution_count": 32,
   "id": "ae005000-ff6a-4952-89fb-b3e20f3416bd",
   "metadata": {},
   "outputs": [],
   "source": [
    "data = Path(\"../data\")\n",
    "\n",
    "users_df = pd.read_csv(data/\"users_2017.tsv\", sep='\\t', parse_dates=[\"signup_date\", \"start_date\"])\n",
    "recordings_df = pd.read_csv(data/\"recordings_2017.tsv\", sep='\\t', parse_dates=[\"Date_Time\"])"
   ]
  },
  {
   "cell_type": "markdown",
   "id": "0c48e9fc-2fb3-45b8-9952-7fb03495ece9",
   "metadata": {},
   "source": [
    "**convert column names to lower case for consistency**"
   ]
  },
  {
   "cell_type": "code",
   "execution_count": 33,
   "id": "83d454d9-b274-45b4-96bd-7fa513d8383a",
   "metadata": {},
   "outputs": [],
   "source": [
    "users_df.columns = users_df.columns.str.lower()\n",
    "recordings_df.columns = recordings_df.columns.str.lower()"
   ]
  },
  {
   "cell_type": "markdown",
   "id": "91c2a5e3-9f30-494b-9a50-371609dd31f0",
   "metadata": {},
   "source": [
    "**break down recording summary JSON into separate columns**"
   ]
  },
  {
   "cell_type": "code",
   "execution_count": 34,
   "id": "d6ea4e7c-f4fd-4a4f-822a-1ceb8797ed55",
   "metadata": {},
   "outputs": [],
   "source": [
    "recordings_df[\"recording_summary\"] = recordings_df[\"recording_summary\"].fillna('{}').astype(str) # to handle nulls in recording_summary\n",
    "recording_summary_df = recordings_df[\"recording_summary\"].apply(json.loads).apply(pd.Series) # parse JSON and break down it into separate columns\n",
    "recordings_df = pd.concat([recordings_df.drop(columns=[\"recording_summary\"]), recording_summary_df], axis=1) # merge into recordings_df\n",
    "recordings_df[\"updatedAt\"] = pd.to_datetime(recordings_df[\"updatedAt\"]) # convert updatedAt to datetime"
   ]
  },
  {
   "cell_type": "markdown",
   "id": "bcf3d1e8-af93-4ca8-bd71-ee65912a6422",
   "metadata": {},
   "source": [
    "**clean up column names in both dataframes**"
   ]
  },
  {
   "cell_type": "code",
   "execution_count": 35,
   "id": "0b24858f-548c-4d9d-8e2f-ec24986a4c1a",
   "metadata": {},
   "outputs": [],
   "source": [
    "users_df = users_df.rename(columns={\"signup_date\": \"user_signup_date\", \"start_date\": \"user_start_date\"})\n",
    "recordings_df = recordings_df.rename(columns={\"date_time\": \"recording_date_time\", \"timeTotal\": \"time_total\", \"updatedAt\": \"updated_at\", \"timeMoving\": \"time_moving\", \"paceAverage\": \"pace_average\", \"speedAverage\": \"speed_average\", \"distanceTotal\": \"distance_total\", \"elevationGain\": \"evelation_gain\", \"elevationLoss\": \"elevation_loss\"})"
   ]
  },
  {
   "cell_type": "markdown",
   "id": "1feb9f0b-88fc-4b8c-ad34-cf1aef1502dc",
   "metadata": {},
   "source": [
    "**Get the second recording for each user**"
   ]
  },
  {
   "cell_type": "code",
   "execution_count": 36,
   "id": "5d0f59ba-d1ee-43d0-8035-7934dff84af8",
   "metadata": {},
   "outputs": [],
   "source": [
    "recordings_df = recordings_df.sort_values(by=[\"pseudo_user_id\", \"recording_date_time\"])\n",
    "second_recording_df = recordings_df.groupby(\"pseudo_user_id\").nth(1).reset_index()"
   ]
  },
  {
   "cell_type": "markdown",
   "id": "1d225274-ec48-41be-b47a-7ef78804f0db",
   "metadata": {},
   "source": [
    "**join second_recording_df with users_df**"
   ]
  },
  {
   "cell_type": "code",
   "execution_count": 37,
   "id": "08b34ce2-b770-4ba4-a923-47bcea285a01",
   "metadata": {},
   "outputs": [],
   "source": [
    "users_second_recording_df = pd.merge(users_df, second_recording_df, on=\"pseudo_user_id\", how=\"inner\")"
   ]
  },
  {
   "cell_type": "markdown",
   "id": "e8ea9892-c1cb-4565-a0a6-4d5c6897d928",
   "metadata": {},
   "source": [
    "**find the difference between user's signup date and their second recording in hours**"
   ]
  },
  {
   "cell_type": "code",
   "execution_count": 38,
   "id": "f32ee445-89f6-4884-b28b-df0534867031",
   "metadata": {},
   "outputs": [],
   "source": [
    "users_second_recording_df[\"hours_till_second_recording\"] = (users_second_recording_df[\"recording_date_time\"] - users_second_recording_df[\"user_signup_date\"]).dt.total_seconds()/3600"
   ]
  },
  {
   "cell_type": "markdown",
   "id": "7520ec50-0213-43f5-8230-77d761d70446",
   "metadata": {},
   "source": [
    "**filter out negative values the same way as it is done with the first recordings**"
   ]
  },
  {
   "cell_type": "code",
   "execution_count": 39,
   "id": "55ea7547-a891-4b29-9728-84bb02cc09e4",
   "metadata": {},
   "outputs": [],
   "source": [
    "negative_hours_df = users_second_recording_df[users_second_recording_df['hours_till_second_recording'] < 0] # 59 records"
   ]
  },
  {
   "cell_type": "code",
   "execution_count": 40,
   "id": "34edf9d4-5962-4a31-aa2f-175d683d99dc",
   "metadata": {},
   "outputs": [],
   "source": [
    "users_second_recording_df = users_second_recording_df[users_second_recording_df['hours_till_second_recording'] >= 0]"
   ]
  },
  {
   "cell_type": "markdown",
   "id": "9fa5de21-481e-41ae-b333-837bab5066d2",
   "metadata": {},
   "source": [
    "**export final df to CSV**"
   ]
  },
  {
   "cell_type": "code",
   "execution_count": 41,
   "id": "cde55a91-72c9-445e-a755-388f9dc3c6c7",
   "metadata": {},
   "outputs": [],
   "source": [
    "output_dir = Path(\"../output\")\n",
    "users_second_recording_df.to_csv(output_dir/\"users_second_recording_2017.csv\", index=False)"
   ]
  },
  {
   "cell_type": "code",
   "execution_count": null,
   "id": "7fa93bcb-4bd5-4e69-8261-07307f6729d0",
   "metadata": {},
   "outputs": [],
   "source": []
  }
 ],
 "metadata": {
  "kernelspec": {
   "display_name": "Python 3 (ipykernel)",
   "language": "python",
   "name": "python3"
  },
  "language_info": {
   "codemirror_mode": {
    "name": "ipython",
    "version": 3
   },
   "file_extension": ".py",
   "mimetype": "text/x-python",
   "name": "python",
   "nbconvert_exporter": "python",
   "pygments_lexer": "ipython3",
   "version": "3.12.5"
  }
 },
 "nbformat": 4,
 "nbformat_minor": 5
}
